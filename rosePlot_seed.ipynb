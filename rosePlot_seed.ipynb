{
 "cells": [
  {
   "cell_type": "code",
   "execution_count": 3,
   "metadata": {},
   "outputs": [],
   "source": [
    "import numpy as np\n",
    "import plotly.graph_objects as go\n",
    "import pandas as pd\n"
   ]
  },
  {
   "cell_type": "code",
   "execution_count": 4,
   "metadata": {},
   "outputs": [],
   "source": [
    "df = pd.read_csv('data_array.csv')"
   ]
  },
  {
   "cell_type": "code",
   "execution_count": 5,
   "metadata": {},
   "outputs": [
    {
     "data": {
      "text/html": [
       "<div>\n",
       "<style scoped>\n",
       "    .dataframe tbody tr th:only-of-type {\n",
       "        vertical-align: middle;\n",
       "    }\n",
       "\n",
       "    .dataframe tbody tr th {\n",
       "        vertical-align: top;\n",
       "    }\n",
       "\n",
       "    .dataframe thead th {\n",
       "        text-align: right;\n",
       "    }\n",
       "</style>\n",
       "<table border=\"1\" class=\"dataframe\">\n",
       "  <thead>\n",
       "    <tr style=\"text-align: right;\">\n",
       "      <th></th>\n",
       "      <th>Data</th>\n",
       "    </tr>\n",
       "  </thead>\n",
       "  <tbody>\n",
       "    <tr>\n",
       "      <th>0</th>\n",
       "      <td>88.19</td>\n",
       "    </tr>\n",
       "    <tr>\n",
       "      <th>1</th>\n",
       "      <td>86.79</td>\n",
       "    </tr>\n",
       "    <tr>\n",
       "      <th>2</th>\n",
       "      <td>88.98</td>\n",
       "    </tr>\n",
       "    <tr>\n",
       "      <th>3</th>\n",
       "      <td>89.10</td>\n",
       "    </tr>\n",
       "    <tr>\n",
       "      <th>4</th>\n",
       "      <td>61.22</td>\n",
       "    </tr>\n",
       "    <tr>\n",
       "      <th>...</th>\n",
       "      <td>...</td>\n",
       "    </tr>\n",
       "    <tr>\n",
       "      <th>180</th>\n",
       "      <td>83.37</td>\n",
       "    </tr>\n",
       "    <tr>\n",
       "      <th>181</th>\n",
       "      <td>61.59</td>\n",
       "    </tr>\n",
       "    <tr>\n",
       "      <th>182</th>\n",
       "      <td>85.00</td>\n",
       "    </tr>\n",
       "    <tr>\n",
       "      <th>183</th>\n",
       "      <td>76.10</td>\n",
       "    </tr>\n",
       "    <tr>\n",
       "      <th>184</th>\n",
       "      <td>83.36</td>\n",
       "    </tr>\n",
       "  </tbody>\n",
       "</table>\n",
       "<p>185 rows × 1 columns</p>\n",
       "</div>"
      ],
      "text/plain": [
       "      Data\n",
       "0    88.19\n",
       "1    86.79\n",
       "2    88.98\n",
       "3    89.10\n",
       "4    61.22\n",
       "..     ...\n",
       "180  83.37\n",
       "181  61.59\n",
       "182  85.00\n",
       "183  76.10\n",
       "184  83.36\n",
       "\n",
       "[185 rows x 1 columns]"
      ]
     },
     "execution_count": 5,
     "metadata": {},
     "output_type": "execute_result"
    }
   ],
   "source": [
    "df"
   ]
  },
  {
   "cell_type": "code",
   "execution_count": 24,
   "metadata": {},
   "outputs": [
    {
     "data": {
      "application/vnd.plotly.v1+json": {
       "config": {
        "plotlyServerURL": "https://plot.ly"
       },
       "data": [
        {
         "marker": {
          "color": "#1C366B",
          "line": {
           "color": "black",
           "width": 0.5
          }
         },
         "opacity": 0.8,
         "r": [
          2.1621621621621623,
          1.6216216216216217,
          0.5405405405405406,
          1.6216216216216217,
          0,
          0,
          0,
          0.5405405405405406,
          2.1621621621621623,
          0,
          0,
          0.5405405405405406,
          0.5405405405405406,
          2.1621621621621623,
          1.0810810810810811,
          3.2432432432432434,
          10.27027027027027,
          20,
          53.51351351351351
         ],
         "theta": [
          2.3684210526315788,
          7.105263157894737,
          11.842105263157896,
          16.578947368421055,
          21.315789473684212,
          26.05263157894737,
          30.78947368421053,
          35.526315789473685,
          40.26315789473685,
          45,
          49.736842105263165,
          54.473684210526315,
          59.21052631578948,
          63.947368421052644,
          68.6842105263158,
          73.42105263157895,
          78.15789473684211,
          82.89473684210527,
          87.63157894736842
         ],
         "type": "barpolar"
        }
       ],
       "layout": {
        "font": {
         "size": 16
        },
        "legend": {
         "font": {
          "size": 16
         }
        },
        "polar": {
         "angularaxis": {
          "rotation": 0
         },
         "radialaxis": {
          "ticksuffix": "%"
         },
         "sector": [
          0,
          90
         ]
        },
        "template": {},
        "title": {
         "text": "TITLE<br> <sub>SUBTITLE</sub>"
        }
       }
      },
      "text/html": [
       "<div>                            <div id=\"11908de6-b9ba-4a9a-9407-849d2f480d4d\" class=\"plotly-graph-div\" style=\"height:525px; width:100%;\"></div>            <script type=\"text/javascript\">                require([\"plotly\"], function(Plotly) {                    window.PLOTLYENV=window.PLOTLYENV || {};                                    if (document.getElementById(\"11908de6-b9ba-4a9a-9407-849d2f480d4d\")) {                    Plotly.newPlot(                        \"11908de6-b9ba-4a9a-9407-849d2f480d4d\",                        [{\"marker\": {\"color\": \"#1C366B\", \"line\": {\"color\": \"black\", \"width\": 0.5}}, \"opacity\": 0.8, \"r\": [2.1621621621621623, 1.6216216216216217, 0.5405405405405406, 1.6216216216216217, 0.0, 0.0, 0.0, 0.5405405405405406, 2.1621621621621623, 0.0, 0.0, 0.5405405405405406, 0.5405405405405406, 2.1621621621621623, 1.0810810810810811, 3.2432432432432434, 10.27027027027027, 20.0, 53.51351351351351], \"theta\": [2.3684210526315788, 7.105263157894737, 11.842105263157896, 16.578947368421055, 21.315789473684212, 26.05263157894737, 30.78947368421053, 35.526315789473685, 40.26315789473685, 45.0, 49.736842105263165, 54.473684210526315, 59.21052631578948, 63.947368421052644, 68.6842105263158, 73.42105263157895, 78.15789473684211, 82.89473684210527, 87.63157894736842], \"type\": \"barpolar\"}],                        {\"font\": {\"size\": 16}, \"legend\": {\"font\": {\"size\": 16}}, \"polar\": {\"angularaxis\": {\"rotation\": 0}, \"radialaxis\": {\"ticksuffix\": \"%\"}, \"sector\": [0, 90]}, \"template\": {}, \"title\": {\"text\": \"TITLE<br> <sub>SUBTITLE</sub>\"}},                        {\"responsive\": true}                    ).then(function(){\n",
       "                            \n",
       "var gd = document.getElementById('11908de6-b9ba-4a9a-9407-849d2f480d4d');\n",
       "var x = new MutationObserver(function (mutations, observer) {{\n",
       "        var display = window.getComputedStyle(gd).display;\n",
       "        if (!display || display === 'none') {{\n",
       "            console.log([gd, 'removed!']);\n",
       "            Plotly.purge(gd);\n",
       "            observer.disconnect();\n",
       "        }}\n",
       "}});\n",
       "\n",
       "// Listen for the removal of the full notebook cells\n",
       "var notebookContainer = gd.closest('#notebook-container');\n",
       "if (notebookContainer) {{\n",
       "    x.observe(notebookContainer, {childList: true});\n",
       "}}\n",
       "\n",
       "// Listen for the clearing of the current output cell\n",
       "var outputEl = gd.closest('.output');\n",
       "if (outputEl) {{\n",
       "    x.observe(outputEl, {childList: true});\n",
       "}}\n",
       "\n",
       "                        })                };                });            </script>        </div>"
      ]
     },
     "metadata": {},
     "output_type": "display_data"
    }
   ],
   "source": [
    "#Settings\n",
    "#angles = np.rad2deg(np.array(df[[\"Data\"]]))\n",
    "angles = np.array(df[[\"Data\"]])\n",
    "bins = 20 #number of bins in plot\n",
    "top = 90\n",
    "\n",
    "#angles2PI = [ x for x in angles if x<2*np.pi] #exclude values that are larger than 2 PI (if you have them in your array, use modulus)\n",
    "hist, bin_edgesarray = np.histogram(angles, bins=np.linspace(0,top,bins))\n",
    "pcHist = hist/len(angles)*100\n",
    "\n",
    "fig = go.Figure()\n",
    "\n",
    "fig.add_trace(go.Barpolar(\n",
    "    r=pcHist,\n",
    "    theta = np.linspace(top/(2*(bins-1)),top*(1-1/(2*(bins-1))),bins-1),\n",
    "    marker_color='#1C366B',\n",
    "    marker_line_color=\"black\",\n",
    "    marker_line_width=0.5,\n",
    "    opacity=0.8\n",
    "))\n",
    "fig.update_layout(\n",
    "    template=None,\n",
    "    polar = dict(\n",
    "      sector = [0, top]\n",
    "    ),\n",
    "    title='TITLE<br> <sub>SUBTITLE</sub>',\n",
    "    font_size=16,\n",
    "    legend_font_size=16,\n",
    "    polar_angularaxis_rotation=0,\n",
    "    polar_radialaxis_ticksuffix='%'\n",
    ")\n",
    "fig.show()\n"
   ]
  },
  {
   "cell_type": "code",
   "execution_count": 25,
   "metadata": {},
   "outputs": [],
   "source": [
    "import os\n",
    "\n",
    "if not os.path.exists(\"images\"):\n",
    "    os.mkdir(\"images\")"
   ]
  },
  {
   "cell_type": "code",
   "execution_count": 26,
   "metadata": {},
   "outputs": [],
   "source": [
    "fig.write_image(\"images/fig2.svg\")"
   ]
  }
 ],
 "metadata": {
  "interpreter": {
   "hash": "77b60de724cd56e5333334a06ed3a5e18b3026c8349f95c7badc7f1caa70835a"
  },
  "kernelspec": {
   "display_name": "Python 3 (ipykernel)",
   "language": "python",
   "name": "python3"
  },
  "language_info": {
   "codemirror_mode": {
    "name": "ipython",
    "version": 3
   },
   "file_extension": ".py",
   "mimetype": "text/x-python",
   "name": "python",
   "nbconvert_exporter": "python",
   "pygments_lexer": "ipython3",
   "version": "3.9.7"
  }
 },
 "nbformat": 4,
 "nbformat_minor": 2
}
